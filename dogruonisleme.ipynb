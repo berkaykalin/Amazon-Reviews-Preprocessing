{
 "cells": [
  {
   "cell_type": "code",
   "execution_count": 1,
   "id": "a77e2d79",
   "metadata": {},
   "outputs": [],
   "source": [
    "import pandas as pd"
   ]
  },
  {
   "cell_type": "code",
   "execution_count": 8,
   "id": "bf86f8a2",
   "metadata": {},
   "outputs": [],
   "source": [
    "veri=pd.read_csv('amazon_yorumları.csv')"
   ]
  },
  {
   "cell_type": "code",
   "execution_count": 9,
   "id": "9e22dfc3",
   "metadata": {},
   "outputs": [
    {
     "data": {
      "text/html": [
       "<div>\n",
       "<style scoped>\n",
       "    .dataframe tbody tr th:only-of-type {\n",
       "        vertical-align: middle;\n",
       "    }\n",
       "\n",
       "    .dataframe tbody tr th {\n",
       "        vertical-align: top;\n",
       "    }\n",
       "\n",
       "    .dataframe thead th {\n",
       "        text-align: right;\n",
       "    }\n",
       "</style>\n",
       "<table border=\"1\" class=\"dataframe\">\n",
       "  <thead>\n",
       "    <tr style=\"text-align: right;\">\n",
       "      <th></th>\n",
       "      <th>Unnamed: 0</th>\n",
       "      <th>Kullanıcı Adı:</th>\n",
       "      <th>Yorum</th>\n",
       "    </tr>\n",
       "  </thead>\n",
       "  <tbody>\n",
       "    <tr>\n",
       "      <th>0</th>\n",
       "      <td>0</td>\n",
       "      <td>Pavan H</td>\n",
       "      <td>I would not recommend this product for winters.</td>\n",
       "    </tr>\n",
       "    <tr>\n",
       "      <th>1</th>\n",
       "      <td>1</td>\n",
       "      <td>Amaze</td>\n",
       "      <td>Good</td>\n",
       "    </tr>\n",
       "    <tr>\n",
       "      <th>2</th>\n",
       "      <td>2</td>\n",
       "      <td>D. Kong</td>\n",
       "      <td>This pair of gloves is not for very cold tempe...</td>\n",
       "    </tr>\n",
       "    <tr>\n",
       "      <th>3</th>\n",
       "      <td>3</td>\n",
       "      <td>Alexey</td>\n",
       "      <td>They look good, and great quality. The touch s...</td>\n",
       "    </tr>\n",
       "    <tr>\n",
       "      <th>4</th>\n",
       "      <td>4</td>\n",
       "      <td>Charl</td>\n",
       "      <td>I normally wear size L and this size L fits ve...</td>\n",
       "    </tr>\n",
       "  </tbody>\n",
       "</table>\n",
       "</div>"
      ],
      "text/plain": [
       "   Unnamed: 0 Kullanıcı Adı:  \\\n",
       "0           0        Pavan H   \n",
       "1           1          Amaze   \n",
       "2           2        D. Kong   \n",
       "3           3         Alexey   \n",
       "4           4          Charl   \n",
       "\n",
       "                                               Yorum  \n",
       "0    I would not recommend this product for winters.  \n",
       "1                                               Good  \n",
       "2  This pair of gloves is not for very cold tempe...  \n",
       "3  They look good, and great quality. The touch s...  \n",
       "4  I normally wear size L and this size L fits ve...  "
      ]
     },
     "execution_count": 9,
     "metadata": {},
     "output_type": "execute_result"
    }
   ],
   "source": [
    "veri.head()"
   ]
  },
  {
   "cell_type": "code",
   "execution_count": 10,
   "id": "6e7a35fb",
   "metadata": {},
   "outputs": [],
   "source": [
    "import string\n",
    "import re\n",
    "import nltk\n",
    "from nltk.corpus import stopwords"
   ]
  },
  {
   "cell_type": "code",
   "execution_count": 43,
   "id": "55d32d29",
   "metadata": {},
   "outputs": [
    {
     "name": "stdout",
     "output_type": "stream",
     "text": [
      "!\"#$%&'()*+,-./:;<=>?@[\\]^_`{|}~\n",
      "-------------------------------\n",
      "['i', 'me', 'my', 'myself', 'we', 'our', 'ours', 'ourselves', 'you', \"you're\", \"you've\", \"you'll\", \"you'd\", 'your', 'yours', 'yourself', 'yourselves', 'he', 'him', 'his', 'himself', 'she', \"she's\", 'her', 'hers', 'herself', 'it', \"it's\", 'its', 'itself', 'they', 'them', 'their', 'theirs', 'themselves', 'what', 'which', 'who', 'whom', 'this', 'that', \"that'll\", 'these', 'those', 'am', 'is', 'are', 'was', 'were', 'be', 'been', 'being', 'have', 'has', 'had', 'having', 'do', 'does', 'did', 'doing', 'a', 'an', 'the', 'and', 'but', 'if', 'or', 'because', 'as', 'until', 'while', 'of', 'at', 'by', 'for', 'with', 'about', 'against', 'between', 'into', 'through', 'during', 'before', 'after', 'above', 'below', 'to', 'from', 'up', 'down', 'in', 'out', 'on', 'off', 'over', 'under', 'again', 'further', 'then', 'once', 'here', 'there', 'when', 'where', 'why', 'how', 'all', 'any', 'both', 'each', 'few', 'more', 'most', 'other', 'some', 'such', 'no', 'nor', 'not', 'only', 'own', 'same', 'so', 'than', 'too', 'very', 's', 't', 'can', 'will', 'just', 'don', \"don't\", 'should', \"should've\", 'now', 'd', 'll', 'm', 'o', 're', 've', 'y', 'ain', 'aren', \"aren't\", 'couldn', \"couldn't\", 'didn', \"didn't\", 'doesn', \"doesn't\", 'hadn', \"hadn't\", 'hasn', \"hasn't\", 'haven', \"haven't\", 'isn', \"isn't\", 'ma', 'mightn', \"mightn't\", 'mustn', \"mustn't\", 'needn', \"needn't\", 'shan', \"shan't\", 'shouldn', \"shouldn't\", 'wasn', \"wasn't\", 'weren', \"weren't\", 'won', \"won't\", 'wouldn', \"wouldn't\"]\n"
     ]
    }
   ],
   "source": [
    "noktalama=string.punctuation\n",
    "etkisiz_kelimeler=stopwords.words('english')\n",
    "print(noktalama)\n",
    "print('-------------------------------')\n",
    "print(etkisiz_kelimeler)"
   ]
  },
  {
   "cell_type": "code",
   "execution_count": 47,
   "id": "78fc7a20",
   "metadata": {},
   "outputs": [
    {
     "name": "stdout",
     "output_type": "stream",
     "text": [
      "I would not recommend this product for winters.\n",
      "--------------------------------------------------------------------------------------------------------------\n",
      "I would not recommend this product for winters\n",
      "**********************************************************************************************************\n",
      "Good\n",
      "--------------------------------------------------------------------------------------------------------------\n",
      "Good\n",
      "**********************************************************************************************************\n",
      "This pair of gloves is not for very cold temperatures, but is of high quality build and should be able to handle most East Coast urban winter environments and outdoor activities.  If you need to use it for 20 F or lower temperatures with high wind chill factor, then you either need to use it with a pair of glove-sleeves/inner gloves or get a pair of heavier gloves. The stitching and seams are well executed.  The profile is slim and they do not feel bulky on my hands.  I can wear them with business and causal wears.  Index fingers on both gloves can operate smart phones and tablets.  Also, there is a micro fastex style buckle that can clip both gloves together. I highly recommend this pair of gloves.\n",
      "--------------------------------------------------------------------------------------------------------------\n",
      "This pair of gloves is not for very cold temperatures but is of high quality build and should be able to handle most East Coast urban winter environments and outdoor activities  If you need to use it for 20 F or lower temperatures with high wind chill factor then you either need to use it with a pair of glovesleevesinner gloves or get a pair of heavier gloves The stitching and seams are well executed  The profile is slim and they do not feel bulky on my hands  I can wear them with business and causal wears  Index fingers on both gloves can operate smart phones and tablets  Also there is a micro fastex style buckle that can clip both gloves together I highly recommend this pair of gloves\n",
      "**********************************************************************************************************\n",
      "They look good, and great quality. The touch screen tips work but not well. They do not keep your hands and fingers warm at very cold weather! I will have to find another gloves for cold weather. For example - Columbia Men's Northport Insulated Softshell Glove.I will add a little.I am not happy with the condition of my hands (fingers) in cold weather with these gloves. At 0 degrees Celsius, you can still just walk in them. But as soon as the temperature drops to at least -5 degrees Celsius, your fingers just freeze. In order for these gloves to be comfortable, you need to constantly actively do something. Otherwise, it will simply not work to warm your hands (fingers).It is a pity that these gloves cannot warm my hands (fingers) at temperatures below 0 degrees Celsius during normal walking use.\n",
      "--------------------------------------------------------------------------------------------------------------\n",
      "They look good and great quality The touch screen tips work but not well They do not keep your hands and fingers warm at very cold weather I will have to find another gloves for cold weather For example  Columbia Mens Northport Insulated Softshell GloveI will add a littleI am not happy with the condition of my hands fingers in cold weather with these gloves At 0 degrees Celsius you can still just walk in them But as soon as the temperature drops to at least 5 degrees Celsius your fingers just freeze In order for these gloves to be comfortable you need to constantly actively do something Otherwise it will simply not work to warm your hands fingersIt is a pity that these gloves cannot warm my hands fingers at temperatures below 0 degrees Celsius during normal walking use\n",
      "**********************************************************************************************************\n",
      "I normally wear size L and this size L fits very well. There is enough room on the palm and back of hands so that it doesn't restrict movement. It is comfortable when holding trekking poles or driving wheel without too much pressure on knuckle area. The fit on fingers are perfect for me, except that the thumbs are 1cm too long. My thumbs can only reach the end of gloves when I do a thumb up gesture. I don't think my activity involves the thumb up gesture at all. A walk outside at 4C temperature initially feels a bit cold on hands. After a while the blood circulation is more active my hands feel warm. Overall I like the gloves very much.\n",
      "--------------------------------------------------------------------------------------------------------------\n",
      "I normally wear size L and this size L fits very well There is enough room on the palm and back of hands so that it doesnt restrict movement It is comfortable when holding trekking poles or driving wheel without too much pressure on knuckle area The fit on fingers are perfect for me except that the thumbs are 1cm too long My thumbs can only reach the end of gloves when I do a thumb up gesture I dont think my activity involves the thumb up gesture at all A walk outside at 4C temperature initially feels a bit cold on hands After a while the blood circulation is more active my hands feel warm Overall I like the gloves very much\n",
      "**********************************************************************************************************\n"
     ]
    }
   ],
   "source": [
    "sade_hal=[]\n",
    "for v in veri['Yorum'].head():\n",
    "    print(v+'\\n--------------------------------------------------------------------------------------------------------------')\n",
    "    gecici=''\n",
    "    for kelime in v:\n",
    "        if kelime not in noktalama:\n",
    "            gecici+=kelime\n",
    "    print(gecici+'\\n**********************************************************************************************************')\n",
    "    v=gecici\n",
    "    sade_hal.append(v)"
   ]
  },
  {
   "cell_type": "code",
   "execution_count": 48,
   "id": "e2408a47",
   "metadata": {},
   "outputs": [
    {
     "name": "stdout",
     "output_type": "stream",
     "text": [
      "I would not recommend this product for winters\n",
      "-------------------------------------------------------------------------------------------------------------\n",
      "I would recommend product winters \n",
      "*********************************************************************************************************\n",
      "Good\n",
      "-------------------------------------------------------------------------------------------------------------\n",
      "Good \n",
      "*********************************************************************************************************\n",
      "This pair of gloves is not for very cold temperatures but is of high quality build and should be able to handle most East Coast urban winter environments and outdoor activities  If you need to use it for 20 F or lower temperatures with high wind chill factor then you either need to use it with a pair of glovesleevesinner gloves or get a pair of heavier gloves The stitching and seams are well executed  The profile is slim and they do not feel bulky on my hands  I can wear them with business and causal wears  Index fingers on both gloves can operate smart phones and tablets  Also there is a micro fastex style buckle that can clip both gloves together I highly recommend this pair of gloves\n",
      "-------------------------------------------------------------------------------------------------------------\n",
      "This pair gloves cold temperatures high quality build able handle East Coast urban winter environments outdoor activities If need use F lower temperatures high wind chill factor either need use pair glovesleevesinner gloves get pair heavier gloves The stitching seams well executed The profile slim feel bulky hands I wear business causal wears Index fingers gloves operate smart phones tablets Also micro fastex style buckle clip gloves together I highly recommend pair gloves \n",
      "*********************************************************************************************************\n",
      "They look good and great quality The touch screen tips work but not well They do not keep your hands and fingers warm at very cold weather I will have to find another gloves for cold weather For example  Columbia Mens Northport Insulated Softshell GloveI will add a littleI am not happy with the condition of my hands fingers in cold weather with these gloves At 0 degrees Celsius you can still just walk in them But as soon as the temperature drops to at least 5 degrees Celsius your fingers just freeze In order for these gloves to be comfortable you need to constantly actively do something Otherwise it will simply not work to warm your hands fingersIt is a pity that these gloves cannot warm my hands fingers at temperatures below 0 degrees Celsius during normal walking use\n",
      "-------------------------------------------------------------------------------------------------------------\n",
      "They look good great quality The touch screen tips work well They keep hands fingers warm cold weather I find another gloves cold weather For example Columbia Mens Northport Insulated Softshell GloveI add littleI happy condition hands fingers cold weather gloves At degrees Celsius still walk But soon temperature drops least degrees Celsius fingers freeze In order gloves comfortable need constantly actively something Otherwise simply work warm hands fingersIt pity gloves cannot warm hands fingers temperatures degrees Celsius normal walking use \n",
      "*********************************************************************************************************\n",
      "I normally wear size L and this size L fits very well There is enough room on the palm and back of hands so that it doesnt restrict movement It is comfortable when holding trekking poles or driving wheel without too much pressure on knuckle area The fit on fingers are perfect for me except that the thumbs are 1cm too long My thumbs can only reach the end of gloves when I do a thumb up gesture I dont think my activity involves the thumb up gesture at all A walk outside at 4C temperature initially feels a bit cold on hands After a while the blood circulation is more active my hands feel warm Overall I like the gloves very much\n",
      "-------------------------------------------------------------------------------------------------------------\n",
      "I normally wear size L size L fits well There enough room palm back hands doesnt restrict movement It comfortable holding trekking poles driving wheel without much pressure knuckle area The fit fingers perfect except thumbs 1cm long My thumbs reach end gloves I thumb gesture I dont think activity involves thumb gesture A walk outside 4C temperature initially feels bit cold hands After blood circulation active hands feel warm Overall I like gloves much \n",
      "*********************************************************************************************************\n"
     ]
    }
   ],
   "source": [
    "sade_hal2=[]\n",
    "for v in sade_hal:\n",
    "    print(v+'\\n-------------------------------------------------------------------------------------------------------------')\n",
    "    gecici=''\n",
    "    for kelime in v.split():\n",
    "        if kelime not in etkisiz_kelimeler and not kelime.isnumeric():\n",
    "            gecici+=kelime+' '\n",
    "    print(gecici+'\\n*********************************************************************************************************')\n",
    "    v=gecici\n",
    "    sade_hal2.append(v)"
   ]
  },
  {
   "cell_type": "code",
   "execution_count": 15,
   "id": "6602d548",
   "metadata": {},
   "outputs": [],
   "source": [
    "import re"
   ]
  },
  {
   "cell_type": "code",
   "execution_count": 50,
   "id": "fbda7e1d",
   "metadata": {},
   "outputs": [
    {
     "name": "stdout",
     "output_type": "stream",
     "text": [
      "I would recommend product winters \n",
      "---------------------------------------------------------------------------------------------------------------\n",
      "I would recommend product winters \n",
      "***************************************************************************************************************\n",
      "Good \n",
      "---------------------------------------------------------------------------------------------------------------\n",
      "Good \n",
      "***************************************************************************************************************\n",
      "This pair gloves cold temperatures high quality build able handle East Coast urban winter environments outdoor activities If need use F lower temperatures high wind chill factor either need use pair glovesleevesinner gloves get pair heavier gloves The stitching seams well executed The profile slim feel bulky hands I wear business causal wears Index fingers gloves operate smart phones tablets Also micro fastex style buckle clip gloves together I highly recommend pair gloves \n",
      "---------------------------------------------------------------------------------------------------------------\n",
      "This pair gloves cold temperatures high quality build able handle East Coast urban winter environments outdoor activities If need use F lower temperatures high wind chill factor either need use pair glovesleevesinner gloves get pair heavier gloves The stitching seams well executed The profile slim feel bulky hands I wear business causal wears Index fingers gloves operate smart phones tablets Also micro fastex style buckle clip gloves together I highly recommend pair gloves \n",
      "***************************************************************************************************************\n",
      "They look good great quality The touch screen tips work well They keep hands fingers warm cold weather I find another gloves cold weather For example Columbia Mens Northport Insulated Softshell GloveI add littleI happy condition hands fingers cold weather gloves At degrees Celsius still walk But soon temperature drops least degrees Celsius fingers freeze In order gloves comfortable need constantly actively something Otherwise simply work warm hands fingersIt pity gloves cannot warm hands fingers temperatures degrees Celsius normal walking use \n",
      "---------------------------------------------------------------------------------------------------------------\n",
      "They look good great quality The touch screen tips work well They keep hands fingers warm cold weather I find another gloves cold weather For example Columbia Mens Northport Insulated Softshell GloveI add littleI happy condition hands fingers cold weather gloves At degrees Celsius still walk But soon temperature drops least degrees Celsius fingers freeze In order gloves comfortable need constantly actively something Otherwise simply work warm hands fingersIt pity gloves cannot warm hands fingers temperatures degrees Celsius normal walking use \n",
      "***************************************************************************************************************\n",
      "I normally wear size L size L fits well There enough room palm back hands doesnt restrict movement It comfortable holding trekking poles driving wheel without much pressure knuckle area The fit fingers perfect except thumbs 1cm long My thumbs reach end gloves I thumb gesture I dont think activity involves thumb gesture A walk outside 4C temperature initially feels bit cold hands After blood circulation active hands feel warm Overall I like gloves much \n",
      "---------------------------------------------------------------------------------------------------------------\n",
      "I normally wear size L size L fits well There enough room palm back hands doesnt restrict movement It comfortable holding trekking poles driving wheel without much pressure knuckle area The fit fingers perfect except thumbs 1cm long My thumbs reach end gloves I thumb gesture I dont think activity involves thumb gesture A walk outside 4C temperature initially feels bit cold hands After blood circulation active hands feel warm Overall I like gloves much \n",
      "***************************************************************************************************************\n"
     ]
    }
   ],
   "source": [
    "sade_hal3=[]\n",
    "html_pattern = r'<.*?>'\n",
    "for v in sade_hal2:\n",
    "    print(v+'\\n---------------------------------------------------------------------------------------------------------------')\n",
    "    v=re.sub('https\\S+', '', v)\n",
    "    v=re.sub(pattern=html_pattern, repl=' ', string=v)\n",
    "    v.lower()\n",
    "    v.strip()\n",
    "    v=re.sub(' +', ' ', v)\n",
    "    print(v+'\\n***************************************************************************************************************')\n",
    "    sade_hal3.append(v)\n"
   ]
  },
  {
   "cell_type": "code",
   "execution_count": 51,
   "id": "66a69b54",
   "metadata": {},
   "outputs": [
    {
     "name": "stdout",
     "output_type": "stream",
     "text": [
      "I would recommend product winters \n",
      "---------------------------------------------------------------------------------------------------------------\n",
      "['I', 'would', 'recommend', 'product', 'winters']\n",
      "*******************************************************************************************************************\n",
      "Good \n",
      "---------------------------------------------------------------------------------------------------------------\n",
      "['Good']\n",
      "*******************************************************************************************************************\n",
      "This pair gloves cold temperatures high quality build able handle East Coast urban winter environments outdoor activities If need use F lower temperatures high wind chill factor either need use pair glovesleevesinner gloves get pair heavier gloves The stitching seams well executed The profile slim feel bulky hands I wear business causal wears Index fingers gloves operate smart phones tablets Also micro fastex style buckle clip gloves together I highly recommend pair gloves \n",
      "---------------------------------------------------------------------------------------------------------------\n",
      "['This', 'pair', 'gloves', 'cold', 'temperatures', 'high', 'quality', 'build', 'able', 'handle', 'East', 'Coast', 'urban', 'winter', 'environments', 'outdoor', 'activities', 'If', 'need', 'use', 'F', 'lower', 'temperatures', 'high', 'wind', 'chill', 'factor', 'either', 'need', 'use', 'pair', 'glovesleevesinner', 'gloves', 'get', 'pair', 'heavier', 'gloves', 'The', 'stitching', 'seams', 'well', 'executed', 'The', 'profile', 'slim', 'feel', 'bulky', 'hands', 'I', 'wear', 'business', 'causal', 'wears', 'Index', 'fingers', 'gloves', 'operate', 'smart', 'phones', 'tablets', 'Also', 'micro', 'fastex', 'style', 'buckle', 'clip', 'gloves', 'together', 'I', 'highly', 'recommend', 'pair', 'gloves']\n",
      "*******************************************************************************************************************\n",
      "They look good great quality The touch screen tips work well They keep hands fingers warm cold weather I find another gloves cold weather For example Columbia Mens Northport Insulated Softshell GloveI add littleI happy condition hands fingers cold weather gloves At degrees Celsius still walk But soon temperature drops least degrees Celsius fingers freeze In order gloves comfortable need constantly actively something Otherwise simply work warm hands fingersIt pity gloves cannot warm hands fingers temperatures degrees Celsius normal walking use \n",
      "---------------------------------------------------------------------------------------------------------------\n",
      "['They', 'look', 'good', 'great', 'quality', 'The', 'touch', 'screen', 'tips', 'work', 'well', 'They', 'keep', 'hands', 'fingers', 'warm', 'cold', 'weather', 'I', 'find', 'another', 'gloves', 'cold', 'weather', 'For', 'example', 'Columbia', 'Mens', 'Northport', 'Insulated', 'Softshell', 'GloveI', 'add', 'littleI', 'happy', 'condition', 'hands', 'fingers', 'cold', 'weather', 'gloves', 'At', 'degrees', 'Celsius', 'still', 'walk', 'But', 'soon', 'temperature', 'drops', 'least', 'degrees', 'Celsius', 'fingers', 'freeze', 'In', 'order', 'gloves', 'comfortable', 'need', 'constantly', 'actively', 'something', 'Otherwise', 'simply', 'work', 'warm', 'hands', 'fingersIt', 'pity', 'gloves', 'can', 'not', 'warm', 'hands', 'fingers', 'temperatures', 'degrees', 'Celsius', 'normal', 'walking', 'use']\n",
      "*******************************************************************************************************************\n",
      "I normally wear size L size L fits well There enough room palm back hands doesnt restrict movement It comfortable holding trekking poles driving wheel without much pressure knuckle area The fit fingers perfect except thumbs 1cm long My thumbs reach end gloves I thumb gesture I dont think activity involves thumb gesture A walk outside 4C temperature initially feels bit cold hands After blood circulation active hands feel warm Overall I like gloves much \n",
      "---------------------------------------------------------------------------------------------------------------\n",
      "['I', 'normally', 'wear', 'size', 'L', 'size', 'L', 'fits', 'well', 'There', 'enough', 'room', 'palm', 'back', 'hands', 'doesnt', 'restrict', 'movement', 'It', 'comfortable', 'holding', 'trekking', 'poles', 'driving', 'wheel', 'without', 'much', 'pressure', 'knuckle', 'area', 'The', 'fit', 'fingers', 'perfect', 'except', 'thumbs', '1cm', 'long', 'My', 'thumbs', 'reach', 'end', 'gloves', 'I', 'thumb', 'gesture', 'I', 'dont', 'think', 'activity', 'involves', 'thumb', 'gesture', 'A', 'walk', 'outside', '4C', 'temperature', 'initially', 'feels', 'bit', 'cold', 'hands', 'After', 'blood', 'circulation', 'active', 'hands', 'feel', 'warm', 'Overall', 'I', 'like', 'gloves', 'much']\n",
      "*******************************************************************************************************************\n"
     ]
    }
   ],
   "source": [
    "from nltk.tokenize import word_tokenize\n",
    "for v in sade_hal3:\n",
    "    print(v+'\\n---------------------------------------------------------------------------------------------------------------')\n",
    "    tokens = word_tokenize(v)\n",
    "    print(tokens)\n",
    "    print(\"*******************************************************************************************************************\")"
   ]
  },
  {
   "cell_type": "code",
   "execution_count": null,
   "id": "74e1c4d6",
   "metadata": {},
   "outputs": [],
   "source": []
  }
 ],
 "metadata": {
  "kernelspec": {
   "display_name": "Python 3 (ipykernel)",
   "language": "python",
   "name": "python3"
  },
  "language_info": {
   "codemirror_mode": {
    "name": "ipython",
    "version": 3
   },
   "file_extension": ".py",
   "mimetype": "text/x-python",
   "name": "python",
   "nbconvert_exporter": "python",
   "pygments_lexer": "ipython3",
   "version": "3.9.13"
  }
 },
 "nbformat": 4,
 "nbformat_minor": 5
}
